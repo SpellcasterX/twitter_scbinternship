{
 "cells": [
  {
   "cell_type": "markdown",
   "metadata": {},
   "source": [
    "# Setup"
   ]
  },
  {
   "cell_type": "code",
   "execution_count": 32,
   "metadata": {
    "collapsed": true
   },
   "outputs": [],
   "source": [
    "# -*- coding: utf-8 -*-\n",
    "import gensim\n",
    "import os\n",
    "import re\n",
    "from sklearn.manifold import TSNE\n",
    "import pandas as pd\n",
    "import numpy as np\n",
    "import matplotlib.font_manager as fm\n",
    "import matplotlib.pyplot as plt\n",
    "import matplotlib\n",
    "import deepcut\n",
    "import json\n",
    "import pickle\n",
    "import csv\n",
    "import math\n",
    "\n",
    "from numpy.random import seed\n",
    "seed(1)\n",
    "from tensorflow import set_random_seed\n",
    "set_random_seed(2)\n",
    "\n",
    "font_list = fm.createFontList(['THSarabunNew.ttf'])\n",
    "fm.fontManager.ttflist.extend(font_list)\n",
    "plt.rcParams['font.family'] = 'TH Sarabun New'\n",
    "TAG_RE = re.compile(r'<[^>]+>')\n"
   ]
  },
  {
   "cell_type": "markdown",
   "metadata": {},
   "source": [
    "# Cleanup"
   ]
  },
  {
   "cell_type": "code",
   "execution_count": 22,
   "metadata": {
    "collapsed": true
   },
   "outputs": [],
   "source": [
    "from bs4 import BeautifulSoup\n",
    "import csv\n",
    "import os\n",
    "import time\n",
    "\n",
    "def cleanup():\n",
    "    top_directory = './thai-wiki'\n",
    "\n",
    "    start_time = time.time()\n",
    "    with open('updates.txt', 'w', encoding='utf-8') as f:\n",
    "        outfileWriter = csv.writer(f, delimiter=' ',lineterminator='\\n')\n",
    "        i=0\n",
    "        for root, dirs, files in os.walk(top_directory):\n",
    "            for fname in filter(lambda fname: fname.endswith('.xml'), files):\n",
    "                document = open(os.path.join(root, fname),\"r\",encoding='utf-8').read()\n",
    "                soup = BeautifulSoup(document,'xml')\n",
    "                for sentence in soup.body.findAll(\"se\"):\n",
    "                    rv = []\n",
    "                    for word in sentence.findAll(\"w\"):\n",
    "                        rv.append(word.get_text())\n",
    "                    if len(rv)>3:\n",
    "                        outfileWriter.writerow(rv)\n",
    "                i+=1\n",
    "                if i%100 == 0:\n",
    "                    print(\"Progress: \", i)\n",
    "                    print(\"Elapsed: \", time.time() - start_time)"
   ]
  },
  {
   "cell_type": "markdown",
   "metadata": {},
   "source": [
    "# Main functions Word2Vec"
   ]
  },
  {
   "cell_type": "code",
   "execution_count": 23,
   "metadata": {
    "collapsed": true
   },
   "outputs": [],
   "source": [
    "#Main functions\n",
    "def remove_tags(text):\n",
    "    a = TAG_RE.sub('', text)\n",
    "    b = a.strip('\\n')\n",
    "    return b\n",
    "\n",
    "def gen_cor_NECTEC():\n",
    "    rv = []\n",
    "    types = ['./NECTEC/novel','./NECTEC/article','./NECTEC/news','./NECTEC/encyclopedia']\n",
    "    \n",
    "    for name in types:\n",
    "        corpus = []\n",
    "        cleaned_corpus = []\n",
    "        for filename in os.listdir(name):\n",
    "            f = open('./' + name + '/' + filename, encoding=\"utf8\") \n",
    "            corpus.append(f.read())\n",
    "        for i in corpus:\n",
    "            sub_sentence = i.split(' ')\n",
    "\n",
    "            for sentence in sub_sentence:\n",
    "                sub_string = sentence.split('|')\n",
    "                sublist = []\n",
    "                for string in sub_string:\n",
    "                    if string != '':\n",
    "                        sublist.append(remove_tags(string))\n",
    "                rv.append(sublist)\n",
    "    return rv\n",
    "\n",
    "def gen_cor_wiki():\n",
    "    file = open('updates.txt', 'r',encoding='utf-8') \n",
    "    trainset = []\n",
    "    for line in file: \n",
    "        trainset.append((line.split()))\n",
    "    return trainset\n",
    "\n",
    "def train(documents,mincount):\n",
    "    model = gensim.models.Word2Vec(\n",
    "        documents,\n",
    "        size=150,\n",
    "        window=10,\n",
    "        min_count=mincount,\n",
    "        workers=10)\n",
    "    model.train(documents, total_examples=len(documents), epochs=10)\n",
    "    return model\n",
    "\n",
    "def freqdf():\n",
    "    rv = {}\n",
    "    file = open('updates.txt', 'r',encoding='utf-8') \n",
    "    x = file.read().split()\n",
    "    for word in x:\n",
    "        rv[word] = rv.get(word,0) + 1\n",
    "    #final = pd.DataFrame.from_dict(rv, orient='index')\n",
    "    #final.rename(columns={0: \"Freq\"},inplace=True)\n",
    "    return rv"
   ]
  },
  {
   "cell_type": "markdown",
   "metadata": {},
   "source": [
    "# Main functions KMeans"
   ]
  },
  {
   "cell_type": "code",
   "execution_count": 24,
   "metadata": {
    "collapsed": true
   },
   "outputs": [],
   "source": [
    "from nltk.cluster import KMeansClusterer\n",
    "import nltk \n",
    "import numpy as np\n",
    "from sklearn.cluster import KMeans\n",
    "\n",
    "def scikitkmean(model,n):\n",
    "    kmeans = KMeans(n_clusters=n, random_state=0,n_init=20,max_iter=500).fit(model.wv.vectors)\n",
    "    words = list(model.wv.index2word)\n",
    "    df = pd.DataFrame({'word': words,'cluster': kmeans.labels_,})\n",
    "    #df.set_index('word',inplace=True)\n",
    "    err = kmeans.inertia_ \n",
    "    return df,err\n",
    "\n",
    "def generatedic(df,maxi=500,mini=5,filt=True,cluster=100):\n",
    "    dic = {}\n",
    "    with open('./wikisave/thaiwiki.csv', 'w', encoding='utf-8') as f:\n",
    "        outfileWriter = csv.writer(f, delimiter=',')\n",
    "        for i in range(cluster):\n",
    "            j = list(df[df['cluster']==i]['word'])\n",
    "            if filt == True:\n",
    "                if len(j)<maxi and len(j)>mini:\n",
    "                    outfileWriter.writerow([str(i)]+j)\n",
    "                    dic[i] = j\n",
    "            else:\n",
    "                outfileWriter.writerow([str(i)]+j)\n",
    "                dic[i] = j\n",
    "    return dic"
   ]
  },
  {
   "cell_type": "markdown",
   "metadata": {},
   "source": [
    "# Save to file"
   ]
  },
  {
   "cell_type": "code",
   "execution_count": 25,
   "metadata": {
    "collapsed": true
   },
   "outputs": [],
   "source": [
    "#cleanup()"
   ]
  },
  {
   "cell_type": "code",
   "execution_count": 26,
   "metadata": {},
   "outputs": [
    {
     "name": "stdout",
     "output_type": "stream",
     "text": [
      "Finished word2vec\n"
     ]
    }
   ],
   "source": [
    "wikicorpus = gen_cor_wiki()\n",
    "model = train(wikicorpus,75)\n",
    "model.save(\"./wikisave/wiki.model\")\n",
    "print('Finished word2vec')"
   ]
  },
  {
   "cell_type": "code",
   "execution_count": 27,
   "metadata": {},
   "outputs": [
    {
     "name": "stdout",
     "output_type": "stream",
     "text": [
      "Finished kmeans\n"
     ]
    }
   ],
   "source": [
    "kmeandf,error = scikitkmean(model,200)\n",
    "kmeandf.to_csv('./wikisave/wikidf.csv', encoding='utf-8')\n",
    "print('Finished kmeans')"
   ]
  },
  {
   "cell_type": "code",
   "execution_count": 35,
   "metadata": {},
   "outputs": [
    {
     "name": "stdout",
     "output_type": "stream",
     "text": [
      "Finished dictionary\n"
     ]
    }
   ],
   "source": [
    "dictionary = generatedic(kmeandf,maxi=800,cluster=200)\n",
    "output = open('./wikisave/dictionary.pkl', 'wb')\n",
    "pickle.dump(dictionary, output)\n",
    "output.close()\n",
    "print('Finished dictionary')"
   ]
  },
  {
   "cell_type": "code",
   "execution_count": 36,
   "metadata": {},
   "outputs": [
    {
     "name": "stdout",
     "output_type": "stream",
     "text": [
      "Finished freqdictionary\n"
     ]
    }
   ],
   "source": [
    "freqdic = freqdf()\n",
    "output = open('./wikisave/freqdictionary.pkl', 'wb')\n",
    "pickle.dump(freqdic, output)\n",
    "output.close()\n",
    "print('Finished freqdictionary')"
   ]
  }
 ],
 "metadata": {
  "kernelspec": {
   "display_name": "Python 3",
   "language": "python",
   "name": "python3"
  },
  "language_info": {
   "codemirror_mode": {
    "name": "ipython",
    "version": 3
   },
   "file_extension": ".py",
   "mimetype": "text/x-python",
   "name": "python",
   "nbconvert_exporter": "python",
   "pygments_lexer": "ipython3",
   "version": "3.6.3"
  }
 },
 "nbformat": 4,
 "nbformat_minor": 2
}
